{
 "cells": [
  {
   "cell_type": "code",
   "execution_count": 2,
   "metadata": {},
   "outputs": [],
   "source": [
    "import yaml\n",
    "\n",
    "def display_notebooks(toc_file):\n",
    "    with open(toc_file, 'r') as file:\n",
    "        toc = yaml.safe_load(file)\n",
    "        for item in toc:\n",
    "            if 'file' in item and 'title' in item:\n",
    "                print(f\"Notebook: {item['file']}, Title: {item['title']}\")\n",
    "\n",
    "toc_file = 'c:/Users/Jaath/github/Jupyter_notebook/my_jupyterbook/_toc.yml'\n",
    "display_notebooks(toc_file)"
   ]
  }
 ],
 "metadata": {
  "kernelspec": {
   "display_name": ".venv",
   "language": "python",
   "name": "python3"
  },
  "language_info": {
   "codemirror_mode": {
    "name": "ipython",
    "version": 3
   },
   "file_extension": ".py",
   "mimetype": "text/x-python",
   "name": "python",
   "nbconvert_exporter": "python",
   "pygments_lexer": "ipython3",
   "version": "3.12.8"
  }
 },
 "nbformat": 4,
 "nbformat_minor": 2
}
